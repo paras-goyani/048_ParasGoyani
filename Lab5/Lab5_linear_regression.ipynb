{
 "cells": [
  {
   "cell_type": "code",
   "execution_count": 4,
   "id": "1f5dc78b",
   "metadata": {},
   "outputs": [],
   "source": [
    "import numpy as np"
   ]
  },
  {
   "cell_type": "code",
   "execution_count": 5,
   "id": "5f0d241c",
   "metadata": {},
   "outputs": [],
   "source": [
    "# Input (temp, rainfall, humidity)\n",
    "inputs = np.array([[73, 67, 43], [91, 88, 64], [87, 134, 58], [102, 43, 37], [69, 96, 70], [73, 67, 43], [91, 88, 64], [87, 134, 58], [102, 43, 37], [69, 96, 70], [73, 67, 43], [91, 88, 64], [87, 134, 58], [102, 43, 37], [69, 96, 70]], dtype='float32')\n",
    "# Targets (apples)\n",
    "# only for apples\n",
    "targets = np.array([[56], [81], [119], [22], [103], \n",
    "                    [56], [81], [119], [22], [103], \n",
    "                    [56], [81], [119], [22], [103]], dtype='float32')"
   ]
  },
  {
   "cell_type": "code",
   "execution_count": 6,
   "id": "4b2ed439",
   "metadata": {},
   "outputs": [
    {
     "name": "stdout",
     "output_type": "stream",
     "text": [
      "(15, 4)\n"
     ]
    }
   ],
   "source": [
    "mu = np.mean(inputs, 0)\n",
    "sigma = np.std(inputs, 0)\n",
    "#normalizing the input\n",
    "X = (inputs-mu) / sigma\n",
    "X = np.hstack((np.ones((targets.size,1)),X))\n",
    "print(X.shape)"
   ]
  },
  {
   "cell_type": "markdown",
   "id": "1d6acdc1",
   "metadata": {},
   "source": [
    "Linear Regression Model (from scratch)\n",
    "\n",
    "The weights and biases can also be represented as matrices, initialized with random values. The first row of w and the first element of b are use to predict the first target variable i.e. yield for apples, and similarly the second for oranges."
   ]
  },
  {
   "cell_type": "code",
   "execution_count": 7,
   "id": "26eaaa17",
   "metadata": {},
   "outputs": [
    {
     "name": "stdout",
     "output_type": "stream",
     "text": [
      "[[0.25082446 0.94675294 0.18932038 0.17929141]]\n"
     ]
    }
   ],
   "source": [
    "# Weights and biases\n",
    "rg = np.random.default_rng(12)\n",
    "w = rg.random((1, 4))\n",
    "print(w)"
   ]
  },
  {
   "cell_type": "code",
   "execution_count": 8,
   "id": "a2ce3c5c",
   "metadata": {},
   "outputs": [],
   "source": [
    "# MSE loss function\n",
    "def mse(t1, t2):\n",
    "    diff = t1 - t2\n",
    "    return np.sum(diff * diff) / diff.size"
   ]
  },
  {
   "cell_type": "code",
   "execution_count": 9,
   "id": "6020043d",
   "metadata": {},
   "outputs": [
    {
     "name": "stdout",
     "output_type": "stream",
     "text": [
      "before regression cost is :  6961.124339563164\n"
     ]
    }
   ],
   "source": [
    "# Define the model\n",
    "def model(x,w):\n",
    "    return x @ w.T\n",
    "\n",
    "# Compute error\n",
    "preds = model(X,w)\n",
    "cost_initial = mse(preds, targets)\n",
    "print(\"before regression cost is : \", cost_initial)"
   ]
  },
  {
   "cell_type": "code",
   "execution_count": 10,
   "id": "0a38ac59",
   "metadata": {},
   "outputs": [],
   "source": [
    "def gradient_descent(X, y, w, learning_rate, n_iters):\n",
    "    history = np.zeros((n_iters, 1))\n",
    "    for i in range(n_iters):\n",
    "        h = model(X, w)\n",
    "        diff = h - y\n",
    "        delta = (learning_rate / targets.size) * (X.T@diff)\n",
    "        new_w = w - delta.T\n",
    "        w = new_w\n",
    "        history[i] = mse(h, y)\n",
    "    return (history, w)"
   ]
  },
  {
   "cell_type": "code",
   "execution_count": 11,
   "id": "997dce86",
   "metadata": {},
   "outputs": [
    {
     "name": "stdout",
     "output_type": "stream",
     "text": [
      "Initial cost is:  6961.124339563164 \n",
      "\n",
      "Optimal parameters are: \n",
      " [[66.02435426 -5.02777326 20.51719239 12.68658774]] \n",
      "\n",
      "Final cost is:  [121.48701344]\n"
     ]
    }
   ],
   "source": [
    "import matplotlib.pyplot as plt\n",
    "n_iters = 200\n",
    "learning_rate = 0.01\n",
    "\n",
    "initial_cost = mse(model(X, w),targets)\n",
    "\n",
    "print(\"Initial cost is: \", initial_cost, \"\\n\")\n",
    "\n",
    "(history, optimal_params) = gradient_descent(X, targets, w, learning_rate, n_iters)\n",
    "\n",
    "print(\"Optimal parameters are: \\n\", optimal_params, \"\\n\")\n",
    "\n",
    "print(\"Final cost is: \", history[-1])"
   ]
  },
  {
   "cell_type": "code",
   "execution_count": 12,
   "id": "d21470a8",
   "metadata": {},
   "outputs": [
    {
     "data": {
      "image/png": "[encoded data removed]",
      "text/plain": [
       "<Figure size 432x288 with 1 Axes>"
      ]
     },
     "metadata": {
      "needs_background": "light"
     },
     "output_type": "display_data"
    }
   ],
   "source": [
    "import matplotlib.pyplot as plt\n",
    "\n",
    "\n",
    "plt.plot(range(len(history)), history, 'g')\n",
    "\n",
    "plt.title(\"Convergence Graph of Cost Function\")\n",
    "plt.xlabel(\"Number of Iterations\")\n",
    "plt.ylabel(\"Cost\")\n",
    "plt.show()"
   ]
  },
  {
   "cell_type": "code",
   "execution_count": 13,
   "id": "b93df402",
   "metadata": {},
   "outputs": [
    {
     "name": "stdout",
     "output_type": "stream",
     "text": [
      "Prediction:\n",
      " [[ 46.64832016]\n",
      " [ 74.63682394]\n",
      " [101.27252623]\n",
      " [ 12.2643147 ]\n",
      " [ 95.29978595]\n",
      " [ 46.64832016]\n",
      " [ 74.63682394]\n",
      " [101.27252623]\n",
      " [ 12.2643147 ]\n",
      " [ 95.29978595]\n",
      " [ 46.64832016]\n",
      " [ 74.63682394]\n",
      " [101.27252623]\n",
      " [ 12.2643147 ]\n",
      " [ 95.29978595]]\n",
      "Targets:\n",
      " [[ 56.]\n",
      " [ 81.]\n",
      " [119.]\n",
      " [ 22.]\n",
      " [103.]\n",
      " [ 56.]\n",
      " [ 81.]\n",
      " [119.]\n",
      " [ 22.]\n",
      " [103.]\n",
      " [ 56.]\n",
      " [ 81.]\n",
      " [119.]\n",
      " [ 22.]\n",
      " [103.]]\n"
     ]
    }
   ],
   "source": [
    "# Calculate error\n",
    "preds = model(X, optimal_params)\n",
    "cost_final = mse(preds, targets)\n",
    "# Print predictions\n",
    "print(\"Prediction:\\n\",preds)\n",
    "# Comparing predicted with targets\n",
    "print(\"Targets:\\n\", targets)"
   ]
  },
  {
   "cell_type": "code",
   "execution_count": 14,
   "id": "5c669ec2",
   "metadata": {},
   "outputs": [
    {
     "name": "stdout",
     "output_type": "stream",
     "text": [
      "Cost after linear regression:  119.25682332821566\n",
      "Cost reduction : 98.28681664755756 %\n"
     ]
    }
   ],
   "source": [
    "print(\"Cost after linear regression: \", cost_final)\n",
    "print(\"Cost reduction : {} %\".format(((cost_initial- cost_final) / cost_initial) * 100))"
   ]
  },
  {
   "cell_type": "code",
   "execution_count": null,
   "id": "9ebf8d8d",
   "metadata": {},
   "outputs": [],
   "source": []
  }
 ],
 "metadata": {
  "kernelspec": {
   "display_name": "Python 3 (ipykernel)",
   "language": "python",
   "name": "python3"
  },
  "language_info": {
   "codemirror_mode": {
    "name": "ipython",
    "version": 3
   },
   "file_extension": ".py",
   "mimetype": "text/x-python",
   "name": "python",
   "nbconvert_exporter": "python",
   "pygments_lexer": "ipython3",
   "version": "3.8.0"
  }
 },
 "nbformat": 4,
 "nbformat_minor": 5
}
