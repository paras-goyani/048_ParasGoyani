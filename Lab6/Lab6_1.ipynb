{
 "cells": [
  {
   "cell_type": "code",
   "execution_count": 1,
   "id": "65ad1c2a",
   "metadata": {},
   "outputs": [],
   "source": [
    "#Importing libraries\n",
    "import numpy as np \n",
    "import pandas as pd \n",
    "import io\n",
    "import matplotlib.pyplot as plt"
   ]
  },
  {
   "cell_type": "code",
   "execution_count": 2,
   "id": "40cf1b3a",
   "metadata": {},
   "outputs": [
    {
     "data": {
      "text/html": [
       "<div>\n",
       "<style scoped>\n",
       "    .dataframe tbody tr th:only-of-type {\n",
       "        vertical-align: middle;\n",
       "    }\n",
       "\n",
       "    .dataframe tbody tr th {\n",
       "        vertical-align: top;\n",
       "    }\n",
       "\n",
       "    .dataframe thead th {\n",
       "        text-align: right;\n",
       "    }\n",
       "</style>\n",
       "<table border=\"1\" class=\"dataframe\">\n",
       "  <thead>\n",
       "    <tr style=\"text-align: right;\">\n",
       "      <th></th>\n",
       "      <th>Age</th>\n",
       "      <th>EstimatedSalary</th>\n",
       "      <th>Purchased</th>\n",
       "    </tr>\n",
       "  </thead>\n",
       "  <tbody>\n",
       "    <tr>\n",
       "      <th>0</th>\n",
       "      <td>19</td>\n",
       "      <td>19000</td>\n",
       "      <td>0</td>\n",
       "    </tr>\n",
       "    <tr>\n",
       "      <th>1</th>\n",
       "      <td>35</td>\n",
       "      <td>20000</td>\n",
       "      <td>0</td>\n",
       "    </tr>\n",
       "    <tr>\n",
       "      <th>2</th>\n",
       "      <td>26</td>\n",
       "      <td>43000</td>\n",
       "      <td>0</td>\n",
       "    </tr>\n",
       "    <tr>\n",
       "      <th>3</th>\n",
       "      <td>27</td>\n",
       "      <td>57000</td>\n",
       "      <td>0</td>\n",
       "    </tr>\n",
       "    <tr>\n",
       "      <th>4</th>\n",
       "      <td>19</td>\n",
       "      <td>76000</td>\n",
       "      <td>0</td>\n",
       "    </tr>\n",
       "  </tbody>\n",
       "</table>\n",
       "</div>"
      ],
      "text/plain": [
       "   Age  EstimatedSalary  Purchased\n",
       "0   19            19000          0\n",
       "1   35            20000          0\n",
       "2   26            43000          0\n",
       "3   27            57000          0\n",
       "4   19            76000          0"
      ]
     },
     "execution_count": 2,
     "metadata": {},
     "output_type": "execute_result"
    }
   ],
   "source": [
    "data = pd.read_csv('BuyComputer.csv')\n",
    "\n",
    "data.drop(columns=['User ID',],axis=1,inplace=True)\n",
    "data.head()"
   ]
  },
  {
   "cell_type": "code",
   "execution_count": 3,
   "id": "d688054d",
   "metadata": {},
   "outputs": [
    {
     "data": {
      "text/plain": [
       "0      0\n",
       "1      0\n",
       "2      0\n",
       "3      0\n",
       "4      0\n",
       "      ..\n",
       "395    1\n",
       "396    1\n",
       "397    1\n",
       "398    0\n",
       "399    1\n",
       "Name: Purchased, Length: 400, dtype: int64"
      ]
     },
     "execution_count": 3,
     "metadata": {},
     "output_type": "execute_result"
    }
   ],
   "source": [
    "#Declare label as last column in the source file\n",
    "label=data['Purchased']\n",
    "label"
   ]
  },
  {
   "cell_type": "code",
   "execution_count": 4,
   "id": "034c5f71",
   "metadata": {},
   "outputs": [
    {
     "data": {
      "text/html": [
       "<div>\n",
       "<style scoped>\n",
       "    .dataframe tbody tr th:only-of-type {\n",
       "        vertical-align: middle;\n",
       "    }\n",
       "\n",
       "    .dataframe tbody tr th {\n",
       "        vertical-align: top;\n",
       "    }\n",
       "\n",
       "    .dataframe thead th {\n",
       "        text-align: right;\n",
       "    }\n",
       "</style>\n",
       "<table border=\"1\" class=\"dataframe\">\n",
       "  <thead>\n",
       "    <tr style=\"text-align: right;\">\n",
       "      <th></th>\n",
       "      <th>Age</th>\n",
       "      <th>EstimatedSalary</th>\n",
       "    </tr>\n",
       "  </thead>\n",
       "  <tbody>\n",
       "    <tr>\n",
       "      <th>0</th>\n",
       "      <td>19</td>\n",
       "      <td>19000</td>\n",
       "    </tr>\n",
       "    <tr>\n",
       "      <th>1</th>\n",
       "      <td>35</td>\n",
       "      <td>20000</td>\n",
       "    </tr>\n",
       "    <tr>\n",
       "      <th>2</th>\n",
       "      <td>26</td>\n",
       "      <td>43000</td>\n",
       "    </tr>\n",
       "    <tr>\n",
       "      <th>3</th>\n",
       "      <td>27</td>\n",
       "      <td>57000</td>\n",
       "    </tr>\n",
       "    <tr>\n",
       "      <th>4</th>\n",
       "      <td>19</td>\n",
       "      <td>76000</td>\n",
       "    </tr>\n",
       "    <tr>\n",
       "      <th>...</th>\n",
       "      <td>...</td>\n",
       "      <td>...</td>\n",
       "    </tr>\n",
       "    <tr>\n",
       "      <th>395</th>\n",
       "      <td>46</td>\n",
       "      <td>41000</td>\n",
       "    </tr>\n",
       "    <tr>\n",
       "      <th>396</th>\n",
       "      <td>51</td>\n",
       "      <td>23000</td>\n",
       "    </tr>\n",
       "    <tr>\n",
       "      <th>397</th>\n",
       "      <td>50</td>\n",
       "      <td>20000</td>\n",
       "    </tr>\n",
       "    <tr>\n",
       "      <th>398</th>\n",
       "      <td>36</td>\n",
       "      <td>33000</td>\n",
       "    </tr>\n",
       "    <tr>\n",
       "      <th>399</th>\n",
       "      <td>49</td>\n",
       "      <td>36000</td>\n",
       "    </tr>\n",
       "  </tbody>\n",
       "</table>\n",
       "<p>400 rows × 2 columns</p>\n",
       "</div>"
      ],
      "text/plain": [
       "     Age  EstimatedSalary\n",
       "0     19            19000\n",
       "1     35            20000\n",
       "2     26            43000\n",
       "3     27            57000\n",
       "4     19            76000\n",
       "..   ...              ...\n",
       "395   46            41000\n",
       "396   51            23000\n",
       "397   50            20000\n",
       "398   36            33000\n",
       "399   49            36000\n",
       "\n",
       "[400 rows x 2 columns]"
      ]
     },
     "execution_count": 4,
     "metadata": {},
     "output_type": "execute_result"
    }
   ],
   "source": [
    "#Declaring X as all columns excluding last\n",
    "X=data[['Age','EstimatedSalary']]\n",
    "X"
   ]
  },
  {
   "cell_type": "code",
   "execution_count": 5,
   "id": "5c2c0a36",
   "metadata": {},
   "outputs": [
    {
     "data": {
      "text/plain": [
       "(     Age  EstimatedSalary\n",
       " 132   30            87000\n",
       " 372   39            73000\n",
       " 56    23            48000\n",
       " 141   18            68000\n",
       " 333   40            65000\n",
       " ..   ...              ...\n",
       " 320   52           138000\n",
       " 347   54           108000\n",
       " 337   35            79000\n",
       " 51    18            44000\n",
       " 0     19            19000\n",
       " \n",
       " [280 rows x 2 columns],\n",
       "      Age  EstimatedSalary\n",
       " 150   26            15000\n",
       " 206   55           130000\n",
       " 191   19            26000\n",
       " 243   56           104000\n",
       " 385   56            60000\n",
       " ..   ...              ...\n",
       " 110   39            71000\n",
       " 87    28            85000\n",
       " 335   36            54000\n",
       " 259   45           131000\n",
       " 38    26            72000\n",
       " \n",
       " [120 rows x 2 columns],\n",
       " 132    0\n",
       " 372    0\n",
       " 56     0\n",
       " 141    0\n",
       " 333    0\n",
       "       ..\n",
       " 320    1\n",
       " 347    1\n",
       " 337    0\n",
       " 51     0\n",
       " 0      0\n",
       " Name: Purchased, Length: 280, dtype: int64,\n",
       " 150    0\n",
       " 206    1\n",
       " 191    0\n",
       " 243    1\n",
       " 385    1\n",
       "       ..\n",
       " 110    0\n",
       " 87     0\n",
       " 335    0\n",
       " 259    1\n",
       " 38     0\n",
       " Name: Purchased, Length: 120, dtype: int64)"
      ]
     },
     "execution_count": 5,
     "metadata": {},
     "output_type": "execute_result"
    }
   ],
   "source": [
    "# Splitting data\n",
    "from sklearn.model_selection import train_test_split\n",
    "X_train, X_test, y_train, y_test = train_test_split(X,label,test_size=0.3,random_state=48)\n",
    "X_train, X_test, y_train, y_test"
   ]
  },
  {
   "cell_type": "code",
   "execution_count": 6,
   "id": "78b97614",
   "metadata": {},
   "outputs": [
    {
     "name": "stdout",
     "output_type": "stream",
     "text": [
      "2\n"
     ]
    },
    {
     "data": {
      "text/plain": [
       "[0, 0]"
      ]
     },
     "execution_count": 6,
     "metadata": {},
     "output_type": "execute_result"
    }
   ],
   "source": [
    "# Sacaling data\n",
    "from sklearn.preprocessing import StandardScaler\n",
    "sc = StandardScaler()\n",
    "X_train = sc.fit_transform(X_train)\n",
    "X_test = sc.transform(X_test)\n",
    "\n",
    "#Variabes to calculate sigmoid function\n",
    "y_pred = []\n",
    "len_x = len(X_train[0])\n",
    "w = []\n",
    "b = 0.2\n",
    "print(len_x)\n",
    "\n",
    "entries = len(X_train[:,0])\n",
    "entries\n",
    "\n",
    "for weights in range(len_x):\n",
    "    w.append(0)\n",
    "w"
   ]
  },
  {
   "cell_type": "code",
   "execution_count": 7,
   "id": "8e48d3a6",
   "metadata": {},
   "outputs": [],
   "source": [
    "# Sigmoid function\n",
    "def sigmoid(z):\n",
    "  return 1/(1+np.exp(-z))\n",
    "\n",
    "def predict(inputs,w):\n",
    "    z=np.dot(inputs,w)\n",
    "    return sigmoid(z)\n",
    "\n",
    "#Loss function\n",
    "def loss_func(features,labels,w):\n",
    "    observations = len(labels)\n",
    "    predictions = predict(features, w)\n",
    "    class1_cost = -labels*np.log(predictions)\n",
    "    class2_cost = (1-labels)*np.log(1-predictions)\n",
    "    cost = class1_cost - class2_cost\n",
    "    cost = cost.sum() / observations\n",
    "    return cost"
   ]
  },
  {
   "cell_type": "code",
   "execution_count": 8,
   "id": "c4642ecf",
   "metadata": {},
   "outputs": [],
   "source": [
    "dw = []\n",
    "db = 0\n",
    "J = 0\n",
    "alpha = 0.1\n",
    "for x in range(len_x):\n",
    "    dw.append(0)\n",
    "\n",
    "def update_weights(features, labels, weights, lr):    \n",
    "    \n",
    "    N = len(features)    \n",
    "    predictions = predict(features, weights)    \n",
    "    gradient = np.dot(features.T,  predictions - labels)    \n",
    "    gradient /= N    \n",
    "    gradient *= lr    \n",
    "    weights -= gradient\n",
    "\n",
    "    return weights"
   ]
  },
  {
   "cell_type": "code",
   "execution_count": 11,
   "id": "4b339f18",
   "metadata": {},
   "outputs": [
    {
     "name": "stderr",
     "output_type": "stream",
     "text": [
      "C:\\Users\\Dells\\AppData\\Local\\Temp/ipykernel_15880/3676356478.py:3: RuntimeWarning: overflow encountered in exp\n",
      "  return 1/(1+np.exp(-z))\n",
      "C:\\Users\\Dells\\AppData\\Local\\Temp/ipykernel_15880/3676356478.py:14: RuntimeWarning: divide by zero encountered in log\n",
      "  class2_cost = (1-labels)*np.log(1-predictions)\n",
      "C:\\Users\\Dells\\AppData\\Local\\Temp/ipykernel_15880/3676356478.py:13: RuntimeWarning: divide by zero encountered in log\n",
      "  class1_cost = -labels*np.log(predictions)\n"
     ]
    },
    {
     "name": "stdout",
     "output_type": "stream",
     "text": [
      "iter: 0 cost: inf\n",
      "iter: 1000 cost: inf\n",
      "iter: 2000 cost: inf\n"
     ]
    },
    {
     "data": {
      "text/plain": [
       "0.2"
      ]
     },
     "execution_count": 11,
     "metadata": {},
     "output_type": "execute_result"
    }
   ],
   "source": [
    "#Repeating the process 3000 times\n",
    "cost_history = []\n",
    "for i in range(3000):\n",
    "    w = update_weights(X, label, w, alpha)\n",
    "\n",
    "    #Calculate error for auditing purposes\n",
    "    cost = loss_func(X, label, w)\n",
    "    cost_history.append(cost)\n",
    "\n",
    "    # Log Progress\n",
    "    if i % 1000 == 0:\n",
    "        print(\"iter: \"+ str(i) + \" cost: \"+str(cost))\n",
    "\n",
    "#Print weight\n",
    "w\n",
    "\n",
    "#print bias\n",
    "b"
   ]
  },
  {
   "cell_type": "code",
   "execution_count": 12,
   "id": "795a7bcd",
   "metadata": {},
   "outputs": [
    {
     "name": "stderr",
     "output_type": "stream",
     "text": [
      "C:\\Users\\Dells\\AppData\\Local\\Temp/ipykernel_15880/3676356478.py:3: RuntimeWarning: overflow encountered in exp\n",
      "  return 1/(1+np.exp(-z))\n"
     ]
    },
    {
     "data": {
      "text/plain": [
       "(array([1.00000000e+000, 0.00000000e+000, 1.00000000e+000, 0.00000000e+000,\n",
       "        1.00000000e+000, 0.00000000e+000, 0.00000000e+000, 0.00000000e+000,\n",
       "        0.00000000e+000, 0.00000000e+000, 0.00000000e+000, 0.00000000e+000,\n",
       "        7.26345912e-283, 1.00000000e+000, 1.00000000e+000, 0.00000000e+000,\n",
       "        1.00000000e+000, 4.41478301e-078, 0.00000000e+000, 1.00000000e+000,\n",
       "        0.00000000e+000, 0.00000000e+000, 0.00000000e+000, 1.00000000e+000,\n",
       "        1.00000000e+000, 2.92756822e-141, 0.00000000e+000, 1.85861222e-070,\n",
       "        0.00000000e+000, 1.00000000e+000, 1.00000000e+000, 4.41478301e-078,\n",
       "        1.00000000e+000, 4.16187522e-121, 1.00000000e+000, 1.00000000e+000,\n",
       "        0.00000000e+000, 7.37645854e-106, 1.06321713e-209, 3.05629654e-212,\n",
       "        9.60092754e-182, 0.00000000e+000, 1.00000000e+000, 0.00000000e+000,\n",
       "        1.00000000e+000, 0.00000000e+000, 1.00000000e+000, 1.00000000e+000,\n",
       "        0.00000000e+000, 0.00000000e+000, 0.00000000e+000, 1.00000000e+000,\n",
       "        1.00000000e+000, 1.00000000e+000, 1.00000000e+000, 1.00000000e+000,\n",
       "        0.00000000e+000, 1.00000000e+000, 0.00000000e+000, 4.16187522e-121,\n",
       "        1.00000000e+000, 1.00000000e+000, 1.00000000e+000, 0.00000000e+000,\n",
       "        1.00000000e+000, 1.00000000e+000, 0.00000000e+000, 1.00000000e+000,\n",
       "        1.44782320e-118, 1.00000000e+000, 1.00000000e+000, 1.00000000e+000,\n",
       "        1.00000000e+000, 3.64801329e-083, 1.00000000e+000, 1.00000000e+000,\n",
       "        3.14861355e-222, 4.16187522e-121, 1.00000000e+000, 1.00000000e+000,\n",
       "        1.00000000e+000, 1.00000000e+000, 0.00000000e+000, 0.00000000e+000,\n",
       "        0.00000000e+000, 1.00000000e+000, 1.00000000e+000, 0.00000000e+000,\n",
       "        1.00000000e+000, 0.00000000e+000, 0.00000000e+000, 1.00000000e+000,\n",
       "        0.00000000e+000, 1.00000000e+000, 1.00000000e+000, 0.00000000e+000,\n",
       "        1.00000000e+000, 0.00000000e+000, 1.00000000e+000, 1.00000000e+000,\n",
       "        0.00000000e+000, 1.00000000e+000, 0.00000000e+000, 9.99999300e-001,\n",
       "        1.00000000e+000, 0.00000000e+000, 9.05092330e-225, 0.00000000e+000,\n",
       "        1.00000000e+000, 0.00000000e+000, 0.00000000e+000, 1.00000000e+000,\n",
       "        1.00000000e+000, 1.00000000e+000, 0.00000000e+000, 1.26906214e-080,\n",
       "        0.00000000e+000, 1.00000000e+000, 0.00000000e+000, 5.50409831e-083]),\n",
       " 0      0\n",
       " 1      0\n",
       " 2      0\n",
       " 3      0\n",
       " 4      0\n",
       "       ..\n",
       " 395    1\n",
       " 396    1\n",
       " 397    1\n",
       " 398    0\n",
       " 399    1\n",
       " Name: Purchased, Length: 400, dtype: int64)"
      ]
     },
     "execution_count": 12,
     "metadata": {},
     "output_type": "execute_result"
    }
   ],
   "source": [
    "#predicting the label\n",
    "predicted_labels=predict(X_test,w)\n",
    "\n",
    "#print actual and predicted values in a table\n",
    "predicted_labels,label"
   ]
  },
  {
   "cell_type": "code",
   "execution_count": 13,
   "id": "fcf65e56",
   "metadata": {},
   "outputs": [
    {
     "data": {
      "text/plain": [
       "0.2666666666666667"
      ]
     },
     "execution_count": 13,
     "metadata": {},
     "output_type": "execute_result"
    }
   ],
   "source": [
    "# Calculating accuracy of prediction\n",
    "diff = predicted_labels - y_test\n",
    "acc=1.0 - (float(np.count_nonzero(diff)) / len(diff))\n",
    "acc"
   ]
  },
  {
   "cell_type": "code",
   "execution_count": 14,
   "id": "f4c6fd19",
   "metadata": {},
   "outputs": [
    {
     "data": {
      "text/plain": [
       "array([0, 1, 0, 1, 1, 0, 0, 1, 1, 0, 0, 1, 0, 1, 0, 0, 0, 0, 0, 0, 0, 1,\n",
       "       1, 0, 0, 0, 1, 0, 0, 0, 0, 0, 0, 0, 0, 0, 1, 0, 1, 1, 0, 0, 0, 1,\n",
       "       0, 0, 0, 0, 1, 1, 0, 0, 0, 0, 0, 0, 0, 0, 1, 0, 0, 0, 0, 1, 0, 0,\n",
       "       0, 0, 0, 1, 0, 0, 0, 0, 0, 1, 0, 0, 0, 0, 0, 1, 0, 1, 0, 0, 0, 1,\n",
       "       0, 0, 0, 1, 1, 0, 0, 0, 0, 1, 0, 0, 1, 0, 1, 0, 1, 0, 0, 1, 0, 1,\n",
       "       1, 0, 0, 0, 1, 0, 0, 0, 1, 0], dtype=int64)"
      ]
     },
     "execution_count": 14,
     "metadata": {},
     "output_type": "execute_result"
    }
   ],
   "source": [
    "# Fitting Logistic Regression to the Training set\n",
    "from sklearn.linear_model import LogisticRegression\n",
    "LR = LogisticRegression(random_state = 48)\n",
    "\n",
    "#Fit\n",
    "LR=LR.fit(X_train,y_train)\n",
    "#predicting the test label with LR. Predict always takes X as input\n",
    "y_pred=LR.predict(X_test)\n",
    "y_pred"
   ]
  },
  {
   "cell_type": "code",
   "execution_count": null,
   "id": "6f469702",
   "metadata": {},
   "outputs": [],
   "source": []
  }
 ],
 "metadata": {
  "kernelspec": {
   "display_name": "Python 3 (ipykernel)",
   "language": "python",
   "name": "python3"
  },
  "language_info": {
   "codemirror_mode": {
    "name": "ipython",
    "version": 3
   },
   "file_extension": ".py",
   "mimetype": "text/x-python",
   "name": "python",
   "nbconvert_exporter": "python",
   "pygments_lexer": "ipython3",
   "version": "3.8.0"
  }
 },
 "nbformat": 4,
 "nbformat_minor": 5
}
