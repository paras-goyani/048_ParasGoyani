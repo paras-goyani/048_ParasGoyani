{
 "cells": [
  {
   "cell_type": "code",
   "execution_count": 2,
   "id": "73fad665",
   "metadata": {},
   "outputs": [],
   "source": [
    "# importing libraries\n",
    "import nltk\n",
    "import matplotlib.pyplot as plt\n",
    "import pandas as pd"
   ]
  },
  {
   "cell_type": "code",
   "execution_count": 3,
   "id": "88dd5f4f",
   "metadata": {},
   "outputs": [
    {
     "name": "stdout",
     "output_type": "stream",
     "text": [
      "Discussing climate, sustainability, and preserving the natural world with President @EmmanuelMacron today in Paris. BezosEarthFund ClimatePledge\n"
     ]
    }
   ],
   "source": [
    "# Raw Text Analysis\n",
    "random_text = \"\"\"Discussing climate, sustainability, and preserving the natural world with President @EmmanuelMacron today in Paris. #BezosEarthFund #ClimatePledge\"\"\"\n",
    "\n",
    "import re\n",
    "import string\n",
    "from nltk.corpus import stopwords\n",
    "from nltk.stem import PorterStemmer\n",
    "from nltk.tokenize import TweetTokenizer\n",
    "\n",
    "remove_link_text = re.sub(r'https?:\\/\\/.*[\\r\\n]*', '', random_text)\n",
    "remove_link_text = re.sub(r'#', '', remove_link_text)\n",
    "print(remove_link_text)"
   ]
  },
  {
   "cell_type": "code",
   "execution_count": 4,
   "id": "bfceced2",
   "metadata": {},
   "outputs": [
    {
     "name": "stdout",
     "output_type": "stream",
     "text": [
      "\u001b[92mDiscussing climate, sustainability, and preserving the natural world with President @EmmanuelMacron today in Paris. #BezosEarthFund #ClimatePledge\n",
      "\u001b[92mDiscussing climate, sustainability, and preserving the natural world with President @EmmanuelMacron today in Paris. BezosEarthFund ClimatePledge\n"
     ]
    }
   ],
   "source": [
    "print('\\033[92m' + random_text)\n",
    "print('\\033[92m' + remove_link_text)"
   ]
  },
  {
   "cell_type": "code",
   "execution_count": 5,
   "id": "cf927296",
   "metadata": {},
   "outputs": [
    {
     "name": "stderr",
     "output_type": "stream",
     "text": [
      "[nltk_data] Downloading package punkt to\n",
      "[nltk_data]     C:\\Users\\Dells\\AppData\\Roaming\\nltk_data...\n",
      "[nltk_data]   Unzipping tokenizers\\punkt.zip.\n"
     ]
    },
    {
     "name": "stdout",
     "output_type": "stream",
     "text": [
      "['Hello Mr. steve, how you doing?', 'whats up?', 'The weather is great, and city is awesome.', 'how you doing?', 'The sky is pinkish-blue.', \"You shouldn't eat cardboard, how you doing?\"]\n"
     ]
    }
   ],
   "source": [
    "from nltk.tokenize import sent_tokenize\n",
    "text=\"\"\"Hello Mr. steve, how you doing? whats up? The weather is great, and city is awesome. how you doing? The sky is pinkish-blue. You shouldn't eat cardboard, how you doing?\"\"\"\n",
    "# download punkt\n",
    "nltk.download(\"punkt\")\n",
    "tokenized_text=sent_tokenize(text)\n",
    "print(tokenized_text)"
   ]
  },
  {
   "cell_type": "code",
   "execution_count": 6,
   "id": "78ca9a1e",
   "metadata": {},
   "outputs": [
    {
     "name": "stdout",
     "output_type": "stream",
     "text": [
      "['Hello', 'Mr.', 'steve', ',', 'how', 'you', 'doing', '?', 'whats', 'up', '?', 'The', 'weather', 'is', 'great', ',', 'and', 'city', 'is', 'awesome', '.', 'how', 'you', 'doing', '?', 'The', 'sky', 'is', 'pinkish-blue', '.', 'You', 'should', \"n't\", 'eat', 'cardboard', ',', 'how', 'you', 'doing', '?']\n"
     ]
    }
   ],
   "source": [
    "# breaks paregraph into words\n",
    "from nltk.tokenize import word_tokenize\n",
    "tokenized_word=word_tokenize(text)\n",
    "print(tokenized_word)"
   ]
  },
  {
   "cell_type": "code",
   "execution_count": 7,
   "id": "5a41635a",
   "metadata": {},
   "outputs": [
    {
     "data": {
      "image/png": "[encoded data removed]",
      "text/plain": [
       "<Figure size 432x288 with 1 Axes>"
      ]
     },
     "metadata": {
      "needs_background": "light"
     },
     "output_type": "display_data"
    }
   ],
   "source": [
    "# frequency distribution\n",
    "from nltk.probability import FreqDist\n",
    "fdist = FreqDist(tokenized_word)\n",
    "fdist.most_common(4)\n",
    "# Frequency Distribution Plot\n",
    "import matplotlib.pyplot as plt\n",
    "fdist.plot(30, cumulative = False, color = \"green\")\n",
    "plt.show()"
   ]
  },
  {
   "cell_type": "code",
   "execution_count": 8,
   "id": "6ac28665",
   "metadata": {},
   "outputs": [
    {
     "name": "stderr",
     "output_type": "stream",
     "text": [
      "[nltk_data] Downloading package stopwords to\n",
      "[nltk_data]     C:\\Users\\Dells\\AppData\\Roaming\\nltk_data...\n"
     ]
    },
    {
     "name": "stdout",
     "output_type": "stream",
     "text": [
      "{'just', 'him', 'than', 'these', 'doing', 'further', 'up', 'off', 'but', 'because', 'more', 'yours', 'above', 'wouldn', 'once', 'can', 'd', 'won', 'most', 'if', 'hasn', 'should', 'shan', \"aren't\", 'which', 'hadn', 'themselves', 'haven', \"shouldn't\", 'itself', 'that', \"hadn't\", 'o', 're', 'your', 'too', 'yourself', 'are', 'be', 'ain', 'am', 'from', \"you've\", 'against', 'so', 'myself', 'by', 'some', 'mustn', 'were', 'under', 'and', 'below', 't', 'shouldn', 'ourselves', 'her', 'what', 'in', 'over', 'of', 'when', \"haven't\", 'weren', \"don't\", 'no', 'few', 'with', 'me', \"you're\", 'the', 'isn', 's', 'theirs', 'same', 'it', 'all', \"you'll\", 'she', 'we', \"that'll\", 'his', 'why', \"didn't\", \"hasn't\", 'yourselves', \"won't\", 'you', 'out', 'a', 'ma', 'into', 'as', 'while', 'until', 'i', 'himself', 'do', 'nor', 'then', \"mightn't\", 'through', 'other', 'such', 'll', 'between', 'mightn', \"wouldn't\", 'aren', 'being', 'their', \"isn't\", 'having', 'who', \"needn't\", 'those', 'is', 'both', \"couldn't\", 'our', \"should've\", \"mustn't\", 'wasn', 'again', 'did', 'has', 'them', 'to', \"wasn't\", 'doesn', 'ours', 'at', 'during', 'have', 'had', 'does', 'after', \"you'd\", 'they', 'here', 'very', 've', \"doesn't\", 'where', 'don', 'now', \"weren't\", 'herself', 'an', 'he', 'its', 'been', 'y', 'needn', 'm', 'will', 'couldn', 'this', 'only', \"she's\", 'whom', 'before', 'how', 'hers', 'on', 'down', 'not', 'or', \"shan't\", 'any', 'there', 'my', 'about', 'each', 'for', 'was', 'didn', 'own', \"it's\"}\n"
     ]
    },
    {
     "name": "stderr",
     "output_type": "stream",
     "text": [
      "[nltk_data]   Unzipping corpora\\stopwords.zip.\n"
     ]
    }
   ],
   "source": [
    "# stop words\n",
    "from nltk.corpus import stopwords\n",
    "# download stopwords\n",
    "nltk.download(\"stopwords\")\n",
    "stop_words = set(stopwords.words(\"english\"))\n",
    "print(stop_words)"
   ]
  },
  {
   "cell_type": "code",
   "execution_count": 9,
   "id": "b9ee4ed1",
   "metadata": {},
   "outputs": [
    {
     "name": "stdout",
     "output_type": "stream",
     "text": [
      "Tokenized Sentence: ['Hello', 'Mr.', 'steve', ',', 'how', 'you', 'doing', '?', 'whats', 'up', '?', 'The', 'weather', 'is', 'great', ',', 'and', 'city', 'is', 'awesome', '.', 'how', 'you', 'doing', '?', 'The', 'sky', 'is', 'pinkish-blue', '.', 'You', 'should', \"n't\", 'eat', 'cardboard', ',', 'how', 'you', 'doing', '?']\n",
      "Filterd Sentence: ['Hello', 'Mr.', 'steve', ',', '?', 'whats', '?', 'The', 'weather', 'great', ',', 'city', 'awesome', '.', '?', 'The', 'sky', 'pinkish-blue', '.', 'You', \"n't\", 'eat', 'cardboard', ',', '?']\n"
     ]
    }
   ],
   "source": [
    "filtered_sent=[]\n",
    "for w in tokenized_word:\n",
    "    if w not in stop_words:\n",
    "        filtered_sent.append(w)\n",
    "print(\"Tokenized Sentence:\",tokenized_word)\n",
    "print(\"Filterd Sentence:\",filtered_sent)"
   ]
  },
  {
   "cell_type": "code",
   "execution_count": 10,
   "id": "9852b3c9",
   "metadata": {},
   "outputs": [
    {
     "name": "stdout",
     "output_type": "stream",
     "text": [
      "Filtered Sentence: ['Hello', 'Mr.', 'steve', ',', '?', 'whats', '?', 'The', 'weather', 'great', ',', 'city', 'awesome', '.', '?', 'The', 'sky', 'pinkish-blue', '.', 'You', \"n't\", 'eat', 'cardboard', ',', '?']\n",
      "Stemmed Sentence: ['hello', 'mr.', 'steve', ',', '?', 'what', '?', 'the', 'weather', 'great', ',', 'citi', 'awesom', '.', '?', 'the', 'sky', 'pinkish-blu', '.', 'you', \"n't\", 'eat', 'cardboard', ',', '?']\n"
     ]
    }
   ],
   "source": [
    "# stemming\n",
    "from nltk.stem import PorterStemmer\n",
    "from nltk.tokenize import sent_tokenize, word_tokenize\n",
    "\n",
    "ps = PorterStemmer()\n",
    "\n",
    "stemmed_words=[]\n",
    "for w in filtered_sent:\n",
    "    stemmed_words.append(ps.stem(w))\n",
    "\n",
    "print(\"Filtered Sentence:\",filtered_sent)\n",
    "print(\"Stemmed Sentence:\",stemmed_words)"
   ]
  },
  {
   "cell_type": "code",
   "execution_count": 11,
   "id": "e6de1dc9",
   "metadata": {},
   "outputs": [
    {
     "name": "stderr",
     "output_type": "stream",
     "text": [
      "[nltk_data] Downloading package wordnet to\n",
      "[nltk_data]     C:\\Users\\Dells\\AppData\\Roaming\\nltk_data...\n",
      "[nltk_data]   Unzipping corpora\\wordnet.zip.\n"
     ]
    },
    {
     "name": "stdout",
     "output_type": "stream",
     "text": [
      "Lemmatized Word: fly\n",
      "Stemmed Word: fli\n"
     ]
    }
   ],
   "source": [
    "#Lexicon Normalization\n",
    "#performing stemming and Lemmatization\n",
    "\n",
    "from nltk.stem.wordnet import WordNetLemmatizer\n",
    "nltk.download('wordnet')\n",
    "lem = WordNetLemmatizer()\n",
    "\n",
    "from nltk.stem.porter import PorterStemmer\n",
    "stem = PorterStemmer()\n",
    "\n",
    "word = \"flying\"\n",
    "print(\"Lemmatized Word:\",lem.lemmatize(word,\"v\"))\n",
    "print(\"Stemmed Word:\",stem.stem(word))"
   ]
  },
  {
   "cell_type": "code",
   "execution_count": null,
   "id": "e95698c0",
   "metadata": {},
   "outputs": [],
   "source": []
  }
 ],
 "metadata": {
  "kernelspec": {
   "display_name": "Python 3 (ipykernel)",
   "language": "python",
   "name": "python3"
  },
  "language_info": {
   "codemirror_mode": {
    "name": "ipython",
    "version": 3
   },
   "file_extension": ".py",
   "mimetype": "text/x-python",
   "name": "python",
   "nbconvert_exporter": "python",
   "pygments_lexer": "ipython3",
   "version": "3.8.0"
  }
 },
 "nbformat": 4,
 "nbformat_minor": 5
}
