{
 "cells": [
  {
   "cell_type": "code",
   "execution_count": 4,
   "id": "7526f188",
   "metadata": {},
   "outputs": [],
   "source": [
    "import numpy as np\n",
    "import pandas as pd\n"
   ]
  },
  {
   "cell_type": "code",
   "execution_count": 5,
   "id": "46a633c5",
   "metadata": {},
   "outputs": [
    {
     "name": "stdout",
     "output_type": "stream",
     "text": [
      "[[5 9 3]\n",
      " [3 7 5]]\n",
      "[[ 3 -9]\n",
      " [ 5  4]\n",
      " [ 7 -8]]\n"
     ]
    }
   ],
   "source": [
    "# two matrics\n",
    "array1 = np.array([[5, 9, 3],[3, 7, 5]])\n",
    "array2 = np.array([[3,-9],[5, 4],[7, -8]])\n",
    "print(array1)\n",
    "print(array2)"
   ]
  },
  {
   "cell_type": "code",
   "execution_count": 6,
   "id": "41e391fa",
   "metadata": {},
   "outputs": [
    {
     "name": "stdout",
     "output_type": "stream",
     "text": [
      "[[0.74436112 0.83120824 0.41532795 0.4692536 ]\n",
      " [0.91617814 0.44549354 0.02480357 0.03944221]\n",
      " [0.32038686 0.499558   0.84815996 0.01311029]]\n"
     ]
    }
   ],
   "source": [
    "array = np.random.rand(3, 4)\n",
    "print(array)"
   ]
  },
  {
   "cell_type": "code",
   "execution_count": 7,
   "id": "a1084253",
   "metadata": {},
   "outputs": [
    {
     "name": "stdout",
     "output_type": "stream",
     "text": [
      "[[ 81 -33]\n",
      " [ 79 -39]]\n"
     ]
    }
   ],
   "source": [
    "mul = np.dot(array1, array2)\n",
    "print(mul)"
   ]
  },
  {
   "cell_type": "code",
   "execution_count": 8,
   "id": "827a8a71",
   "metadata": {},
   "outputs": [
    {
     "name": "stdout",
     "output_type": "stream",
     "text": [
      "[[81, -33], [79, -39]]\n"
     ]
    }
   ],
   "source": [
    "# perform element wise matrix multiplication\n",
    "res = [[0 for x in range(len(array1))] for y in range(len(array2[0]))]\n",
    "\n",
    "for i in range(len(array1)): \n",
    "  for j in range(len(array2[0])): \n",
    "    for k in range(len(array2)): \n",
    "      res[i][j] += array1[i][k] * array2[k][j]\n",
    " \n",
    "print (res)"
   ]
  },
  {
   "cell_type": "code",
   "execution_count": 9,
   "id": "e2dcdaaf",
   "metadata": {},
   "outputs": [
    {
     "name": "stdout",
     "output_type": "stream",
     "text": [
      "5.333333333333333\n"
     ]
    }
   ],
   "source": [
    "# mean of first matrix\n",
    "mean = np.mean(array1)\n",
    "print(mean)"
   ]
  },
  {
   "cell_type": "code",
   "execution_count": 15,
   "id": "8f088560",
   "metadata": {},
   "outputs": [],
   "source": [
    "main_data = pd.read_csv(\"mtcars.csv.xls\")"
   ]
  },
  {
   "cell_type": "code",
   "execution_count": 16,
   "id": "25cf5aee",
   "metadata": {},
   "outputs": [
    {
     "name": "stdout",
     "output_type": "stream",
     "text": [
      "        mpg     cyl        disp       hp      drat       wt     qsec      vs  \\\n",
      "0  0.909375 -0.1875  -70.721875 -36.6875  0.303437 -0.59725 -1.38875 -0.4375   \n",
      "1  0.909375 -0.1875  -70.721875 -36.6875  0.303437 -0.34225 -0.82875 -0.4375   \n",
      "2  2.709375 -2.1875 -122.721875 -53.6875  0.253437 -0.89725  0.76125  0.5625   \n",
      "3  1.309375 -0.1875   27.278125 -36.6875 -0.516563 -0.00225  1.59125  0.5625   \n",
      "4 -1.390625  1.8125  129.278125  28.3125 -0.446563  0.22275 -0.82875 -0.4375   \n",
      "\n",
      "        am    gear    carb  \n",
      "0  0.59375  0.3125  1.1875  \n",
      "1  0.59375  0.3125  1.1875  \n",
      "2  0.59375  0.3125 -1.8125  \n",
      "3 -0.40625 -0.6875 -1.8125  \n",
      "4 -0.40625 -0.6875 -0.8125  \n"
     ]
    }
   ],
   "source": [
    "del main_data['model']\n",
    "# meancenter\n",
    "meancenter = main_data.apply(lambda e: e - e.mean())\n",
    "print(meancenter.head())\n"
   ]
  },
  {
   "cell_type": "code",
   "execution_count": null,
   "id": "02637cb5",
   "metadata": {},
   "outputs": [],
   "source": []
  }
 ],
 "metadata": {
  "kernelspec": {
   "display_name": "Python 3 (ipykernel)",
   "language": "python",
   "name": "python3"
  },
  "language_info": {
   "codemirror_mode": {
    "name": "ipython",
    "version": 3
   },
   "file_extension": ".py",
   "mimetype": "text/x-python",
   "name": "python",
   "nbconvert_exporter": "python",
   "pygments_lexer": "ipython3",
   "version": "3.8.0"
  }
 },
 "nbformat": 4,
 "nbformat_minor": 5
}
