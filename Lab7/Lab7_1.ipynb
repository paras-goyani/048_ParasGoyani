{
 "cells": [
  {
   "cell_type": "code",
   "execution_count": 1,
   "id": "248a109f",
   "metadata": {},
   "outputs": [
    {
     "name": "stderr",
     "output_type": "stream",
     "text": [
      "c:\\users\\dells\\desktop\\048_parasgoyani\\.venv\\lib\\site-packages\\numpy\\_distributor_init.py:30: UserWarning: loaded more than 1 DLL from .libs:\n",
      "c:\\users\\dells\\desktop\\048_parasgoyani\\.venv\\lib\\site-packages\\numpy\\.libs\\libopenblas.GK7GX5KEQ4F6UYO3P26ULGBQYHGQO7J4.gfortran-win_amd64.dll\n",
      "c:\\users\\dells\\desktop\\048_parasgoyani\\.venv\\lib\\site-packages\\numpy\\.libs\\libopenblas.WCDJNK7YVMPZQ2ME2ZZHJJRJ3JIKNDB7.gfortran-win_amd64.dll\n",
      "  warnings.warn(\"loaded more than 1 DLL from .libs:\"\n"
     ]
    },
    {
     "name": "stdout",
     "output_type": "stream",
     "text": [
      "WARNING:tensorflow:From c:\\users\\dells\\desktop\\048_parasgoyani\\.venv\\lib\\site-packages\\tensorflow\\python\\compat\\v2_compat.py:101: disable_resource_variables (from tensorflow.python.ops.variable_scope) is deprecated and will be removed in a future version.\n",
      "Instructions for updating:\n",
      "non-resource variables are not supported in the long term\n"
     ]
    }
   ],
   "source": [
    "import nltk\n",
    "from nltk.corpus import twitter_samples \n",
    "import pandas as pd\n",
    "from sklearn.model_selection import train_test_split\n",
    "import tensorflow.compat.v1 as tf\n",
    "tf.disable_v2_behavior()"
   ]
  },
  {
   "cell_type": "code",
   "execution_count": 2,
   "id": "550dad0b",
   "metadata": {},
   "outputs": [
    {
     "name": "stderr",
     "output_type": "stream",
     "text": [
      "[nltk_data] Downloading package twitter_samples to\n",
      "[nltk_data]     C:\\Users\\Dells\\AppData\\Roaming\\nltk_data...\n",
      "[nltk_data]   Unzipping corpora\\twitter_samples.zip.\n",
      "[nltk_data] Downloading package stopwords to\n",
      "[nltk_data]     C:\\Users\\Dells\\AppData\\Roaming\\nltk_data...\n",
      "[nltk_data]   Package stopwords is already up-to-date!\n"
     ]
    },
    {
     "data": {
      "text/plain": [
       "True"
      ]
     },
     "execution_count": 2,
     "metadata": {},
     "output_type": "execute_result"
    }
   ],
   "source": [
    "nltk.download('twitter_samples')\n",
    "nltk.download('stopwords')"
   ]
  },
  {
   "cell_type": "code",
   "execution_count": 3,
   "id": "a4218d6d",
   "metadata": {},
   "outputs": [],
   "source": [
    "import re\n",
    "import string\n",
    "import numpy as np\n",
    "from nltk.corpus import stopwords\n",
    "from nltk.stem import PorterStemmer\n",
    "from nltk.tokenize import TweetTokenizer"
   ]
  },
  {
   "cell_type": "code",
   "execution_count": 4,
   "id": "f0fc0dea",
   "metadata": {},
   "outputs": [],
   "source": [
    "#clean our tweets,remove unwanted words and char.\n",
    "def process_tweet(tweet):\n",
    "    stemmer = PorterStemmer()\n",
    "    stopwords_english = stopwords.words('english')\n",
    "    tweet = re.sub(r'\\$\\w*', '', tweet)\n",
    "    tweet = re.sub(r'^RT[\\s]+', '', tweet)\n",
    "    tweet = re.sub(r'https?:\\/\\/.*[\\r\\n]*', '', tweet)\n",
    "    tweet = re.sub(r'#', '', tweet)\n",
    "    tokenizer = TweetTokenizer(preserve_case=False, strip_handles=True,\n",
    "                               reduce_len=True)\n",
    "    tweet_tokens = tokenizer.tokenize(tweet)\n",
    "\n",
    "    tweets_clean = []\n",
    "    for word in tweet_tokens:\n",
    "      if(word not in stopwords_english and word not in string.punctuation):\n",
    "        stem_word = stemmer.stem(word)\n",
    "        tweets_clean.append(stem_word)\n",
    "    return tweets_clean"
   ]
  },
  {
   "cell_type": "code",
   "execution_count": 5,
   "id": "d3f748a0",
   "metadata": {},
   "outputs": [],
   "source": [
    "#check freq of words with pred. value\n",
    "def build_freqs(tweets, ys):\n",
    "    yslist = np.squeeze(ys).tolist()\n",
    "    freqs = {}\n",
    "\n",
    "    for y, tweet in zip(yslist, tweets):\n",
    "        for word in process_tweet(tweet):\n",
    "            pair = (word, y)\n",
    "            if pair in freqs:\n",
    "              freqs[pair] += 1\n",
    "            else:\n",
    "              freqs[pair] = 1\n",
    "    return freqs"
   ]
  },
  {
   "cell_type": "code",
   "execution_count": 6,
   "id": "8a0eec51",
   "metadata": {},
   "outputs": [],
   "source": [
    "all_positive_tweets = twitter_samples.strings('positive_tweets.json')\n",
    "all_negative_tweets = twitter_samples.strings('negative_tweets.json')"
   ]
  },
  {
   "cell_type": "code",
   "execution_count": 7,
   "id": "cdc593ce",
   "metadata": {},
   "outputs": [],
   "source": [
    "#take data\n",
    "test_pos = all_positive_tweets[4000:]\n",
    "train_pos = all_positive_tweets[:4000]\n",
    "test_neg = all_negative_tweets[4000:]\n",
    "train_neg = all_negative_tweets[:4000]\n",
    "train_x = train_pos + train_neg\n",
    "test_x = test_pos + test_neg\n",
    "\n",
    "train_y = np.append(np.ones((len(train_pos), 1)), np.zeros((len(train_neg), 1)), axis=0)\n",
    "test_y = np.append(np.ones((len(test_pos), 1)), np.zeros((len(test_neg), 1)), axis=0)\n",
    "\n",
    "Final_data = all_positive_tweets+all_negative_tweets\n",
    "data =np.append(np.ones((len(all_positive_tweets), 1)), np.zeros((len(all_negative_tweets), 1)), axis=0)\n",
    "train_x,test_x,train_y,test_y = train_test_split(Final_data,data,test_size=0.25,random_state= 48)"
   ]
  },
  {
   "cell_type": "code",
   "execution_count": 8,
   "id": "8a94250c",
   "metadata": {},
   "outputs": [
    {
     "name": "stdout",
     "output_type": "stream",
     "text": [
      "type(freqs) = <class 'dict'>\n",
      "len(freqs) = 10920\n"
     ]
    }
   ],
   "source": [
    "#our word dataset with freq\n",
    "freqs = build_freqs(train_x , train_y)\n",
    "print(\"type(freqs) = \" + str(type(freqs)))\n",
    "print(\"len(freqs) = \" + str(len(freqs.keys())))\n",
    "\n",
    "def extract_features(tweet, freqs): \n",
    "    word_l = process_tweet(tweet)\n",
    "    x = np.zeros((1, 2)) \n",
    "    for word in word_l:\n",
    "        if((word,1) in freqs):\n",
    "          x[0,0]+=freqs[word,1]\n",
    "        if((word,0) in freqs):\n",
    "          x[0,1]+=freqs[word,0]\n",
    "    \n",
    "    assert(x.shape == (1, 2))\n",
    "    return x[0]"
   ]
  },
  {
   "cell_type": "code",
   "execution_count": 9,
   "id": "ad784688",
   "metadata": {},
   "outputs": [
    {
     "name": "stdout",
     "output_type": "stream",
     "text": [
      "Tensor(\"logistic_loss:0\", shape=(7500, 1), dtype=float64)\n"
     ]
    }
   ],
   "source": [
    "#pred function\n",
    "def predict_tweet(tweet):\n",
    "    with tf.Session() as sess:\n",
    "      saver.restore(sess,save_path='TSession')\n",
    "      data_i=[]\n",
    "      for t in tweet:\n",
    "        data_i.append(extract_features(t,freqs))\n",
    "      data_i=np.asarray(data_i)\n",
    "      return sess.run(tf.nn.sigmoid(tf.add(tf.matmul(a=data_i,b=W,transpose_b=True),bias)))\n",
    "    print(\"--Fail--\")\n",
    "    return\n",
    "\n",
    "bias=tf.Variable(np.random.randn(1),name=\"Bias\")\n",
    "W=tf.Variable(np.random.randn(1,2),name=\"Weight\")\n",
    "\n",
    "data=[]\n",
    "for t in train_x:\n",
    "  data.append(extract_features(t,freqs))\n",
    "data=np.asarray(data)\n",
    "\n",
    "Y_hat = tf.nn.sigmoid(tf.add(tf.matmul(np.asarray(data), W,transpose_b=True), bias)) \n",
    "ta=np.asarray(train_y)\n",
    "Total_cost = tf.nn.sigmoid_cross_entropy_with_logits(logits = Y_hat, labels = ta) \n",
    "print(Total_cost)"
   ]
  },
  {
   "cell_type": "code",
   "execution_count": 10,
   "id": "dddc3217",
   "metadata": {},
   "outputs": [
    {
     "name": "stdout",
     "output_type": "stream",
     "text": [
      "Bias [-0.49003182]\n",
      "Weight [[-0.14108248 -0.28568275]]\n",
      "Accuracy 0.4392\n"
     ]
    }
   ],
   "source": [
    "# Gradient Descent Optimizer \n",
    "optimizer = tf.train.GradientDescentOptimizer(learning_rate = 0.00001 ,name=\"GradientDescent\").minimize(Total_cost) \n",
    "# Global Variables Initializer \n",
    "init = tf.global_variables_initializer()\n",
    "\n",
    "saver = tf.train.Saver()\n",
    "with tf.Session() as sess:\n",
    "  \n",
    "  sess.run(init)\n",
    "  print(\"Bias\",sess.run(bias))\n",
    "  print(\"Weight\",sess.run(W))\n",
    "  for epoch in range(1000):\n",
    "    sess.run(optimizer)\n",
    "    preds=sess.run(Y_hat)\n",
    "    acc=((preds==ta).sum())/len(train_y)\n",
    "    Accuracy=[]\n",
    "    repoch=False\n",
    "    if repoch:\n",
    "      Accuracy.append(acc)\n",
    "    if epoch % 1000 == 0:\n",
    "      print(\"Accuracy\",acc)\n",
    "    saved_path = saver.save(sess, 'TSession')"
   ]
  },
  {
   "cell_type": "code",
   "execution_count": 11,
   "id": "c65a0453",
   "metadata": {},
   "outputs": [
    {
     "name": "stdout",
     "output_type": "stream",
     "text": [
      "INFO:tensorflow:Restoring parameters from TSession\n",
      "[[1.41757618e-042]\n",
      " [0.00000000e+000]\n",
      " [2.61815009e-189]\n",
      " ...\n",
      " [0.00000000e+000]\n",
      " [1.79114204e-226]\n",
      " [0.00000000e+000]] 2500\n",
      "0.446\n"
     ]
    }
   ],
   "source": [
    "preds=predict_tweet(test_x)\n",
    "print(preds,len(test_y))\n",
    "\n",
    "def accuracy(x,y):\n",
    "  return ((x==y).sum())/len(y)\n",
    "\n",
    "print(accuracy(preds,test_y))"
   ]
  },
  {
   "cell_type": "code",
   "execution_count": null,
   "id": "97ba83bc",
   "metadata": {},
   "outputs": [],
   "source": []
  }
 ],
 "metadata": {
  "kernelspec": {
   "display_name": "Python 3 (ipykernel)",
   "language": "python",
   "name": "python3"
  },
  "language_info": {
   "codemirror_mode": {
    "name": "ipython",
    "version": 3
   },
   "file_extension": ".py",
   "mimetype": "text/x-python",
   "name": "python",
   "nbconvert_exporter": "python",
   "pygments_lexer": "ipython3",
   "version": "3.8.0"
  }
 },
 "nbformat": 4,
 "nbformat_minor": 5
}
