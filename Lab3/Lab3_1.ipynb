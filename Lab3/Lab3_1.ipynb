{
 "cells": [
  {
   "cell_type": "code",
   "execution_count": 3,
   "id": "0defe128",
   "metadata": {},
   "outputs": [],
   "source": [
    "#importing libraries\n",
    "import numpy as np \n",
    "import pandas as pd\n",
    "from sklearn import preprocessing\n",
    "from sklearn.naive_bayes import GaussianNB, MultinomialNB"
   ]
  },
  {
   "cell_type": "code",
   "execution_count": 4,
   "id": "6eb6718a",
   "metadata": {},
   "outputs": [
    {
     "name": "stdout",
     "output_type": "stream",
     "text": [
      "Data :- \n",
      "    Outlook Temp Humidity Wind Play\n",
      "0        R    H   Normal    F    N\n",
      "1        R    H     High    T    N\n",
      "2        O    H   Normal    F    Y\n",
      "3        S    M   Normal    F    Y\n",
      "4        S    C   Normal    F    Y\n",
      "5        S    C      Low    T    N\n",
      "6        O    C   Normal    T    Y\n",
      "7        R    M   Normal    F    N\n",
      "8        R    C      Low    F    Y\n",
      "9        S    M     High    F    Y\n",
      "10       R    M     High    T    Y\n",
      "11       O    M      Low    T    Y\n",
      "12       O    H   Normal    F    Y\n",
      "13       S    M   Normal    T    N\n",
      "Data Statistics :- \n",
      "        Outlook Temp Humidity Wind Play\n",
      "count       14   14       14   14   14\n",
      "unique       3    3        3    2    2\n",
      "top          R    M   Normal    F    Y\n",
      "freq         5    6        8    8    9\n"
     ]
    }
   ],
   "source": [
    "dataset = pd.read_csv('Dataset1.csv')\n",
    "print(\"Data :- \\n\",dataset)\n",
    "print(\"Data Statistics :- \\n\",dataset.describe())"
   ]
  },
  {
   "cell_type": "code",
   "execution_count": 5,
   "id": "eb4eeb55",
   "metadata": {},
   "outputs": [
    {
     "name": "stdout",
     "output_type": "stream",
     "text": [
      "Outlook: [1 1 0 2 2 2 0 1 1 2 1 0 0 2]\n",
      "Temp: [1 1 1 2 0 0 0 2 0 2 2 2 1 2]\n",
      "Humidity: [2 0 2 2 2 1 2 2 1 0 0 1 2 2]\n",
      "Wind: [0 1 0 0 0 1 1 0 0 0 1 1 0 1]\n",
      "Play: [0 0 1 1 1 0 1 0 1 1 1 1 1 0]\n"
     ]
    }
   ],
   "source": [
    "#creating labelEncoder\n",
    "le = preprocessing.LabelEncoder()\n",
    "\n",
    "# Converting string labels into numbers.\n",
    "outlook_encoded=le.fit_transform(dataset['Outlook'])\n",
    "print(\"Outlook:\" ,outlook_encoded)\n",
    "temp_encoded=le.fit_transform(dataset['Temp'])\n",
    "print(\"Temp:\" ,temp_encoded)\n",
    "humidity_encoded=le.fit_transform(dataset['Humidity'])\n",
    "print(\"Humidity:\" ,humidity_encoded)\n",
    "wind_encoded=le.fit_transform(dataset['Wind'])\n",
    "print(\"Wind:\" ,wind_encoded)\n",
    "play_encoded=le.fit_transform(dataset['Play'])\n",
    "print(\"Play:\" ,play_encoded)"
   ]
  },
  {
   "cell_type": "code",
   "execution_count": 6,
   "id": "c24d5e61",
   "metadata": {},
   "outputs": [
    {
     "name": "stdout",
     "output_type": "stream",
     "text": [
      "Features: ((1, 1, 2, 0), (1, 1, 0, 1), (0, 1, 2, 0), (2, 2, 2, 0), (2, 0, 2, 0), (2, 0, 1, 1), (0, 0, 2, 1), (1, 2, 2, 0), (1, 0, 1, 0), (2, 2, 0, 0), (1, 2, 0, 1), (0, 2, 1, 1), (0, 1, 2, 0), (2, 2, 2, 1))\n"
     ]
    }
   ],
   "source": [
    "#Combinig Outlook,Temp,Humidity and Wind into single listof tuples\n",
    "features=tuple(zip(outlook_encoded,temp_encoded,humidity_encoded,wind_encoded))\n",
    "print(\"Features:\",features)"
   ]
  },
  {
   "cell_type": "code",
   "execution_count": 8,
   "id": "2ec9638b",
   "metadata": {},
   "outputs": [
    {
     "data": {
      "text/plain": [
       "MultinomialNB()"
      ]
     },
     "execution_count": 8,
     "metadata": {},
     "output_type": "execute_result"
    }
   ],
   "source": [
    "#Create a Classifier\n",
    "model=MultinomialNB()\n",
    "# Train the model using the training sets\n",
    "model.fit(features,play_encoded)"
   ]
  },
  {
   "cell_type": "code",
   "execution_count": 9,
   "id": "34f7882b",
   "metadata": {},
   "outputs": [
    {
     "name": "stdout",
     "output_type": "stream",
     "text": [
      "Predicted Value: [1]\n"
     ]
    }
   ],
   "source": [
    "#Predict Output\n",
    "predicted= model.predict([[1,1,2,0]]) # 1:Overcast, 2:Mild\n",
    "print(\"Predicted Value:\", predicted)"
   ]
  },
  {
   "cell_type": "code",
   "execution_count": 10,
   "id": "a019507e",
   "metadata": {},
   "outputs": [
    {
     "name": "stdout",
     "output_type": "stream",
     "text": [
      "Predicted Value: [1]\n"
     ]
    }
   ],
   "source": [
    "#Predict Output\n",
    "predicted= model.predict([[1,1,0,1]]) # 0:Overcast, 2:Mild\n",
    "print(\"Predicted Value:\", predicted)\n"
   ]
  },
  {
   "cell_type": "code",
   "execution_count": 11,
   "id": "32774381",
   "metadata": {},
   "outputs": [
    {
     "name": "stdout",
     "output_type": "stream",
     "text": [
      "Predicted Value: [1]\n"
     ]
    }
   ],
   "source": [
    "#Predict Output\n",
    "predicted= model.predict([[0,1,2,0]]) # 0:Overcast, 2:Mild\n",
    "print(\"Predicted Value:\", predicted)"
   ]
  },
  {
   "cell_type": "code",
   "execution_count": null,
   "id": "cd9a9301",
   "metadata": {},
   "outputs": [],
   "source": []
  }
 ],
 "metadata": {
  "kernelspec": {
   "display_name": "Python 3 (ipykernel)",
   "language": "python",
   "name": "python3"
  },
  "language_info": {
   "codemirror_mode": {
    "name": "ipython",
    "version": 3
   },
   "file_extension": ".py",
   "mimetype": "text/x-python",
   "name": "python",
   "nbconvert_exporter": "python",
   "pygments_lexer": "ipython3",
   "version": "3.8.0"
  }
 },
 "nbformat": 4,
 "nbformat_minor": 5
}
