{
 "cells": [
  {
   "cell_type": "code",
   "execution_count": 1,
   "metadata": {
    "execution": {
     "iopub.execute_input": "2021-10-08T15:23:55.779675Z",
     "iopub.status.busy": "2021-10-08T15:23:55.778885Z",
     "iopub.status.idle": "2021-10-08T15:23:55.804785Z",
     "shell.execute_reply": "2021-10-08T15:23:55.803715Z",
     "shell.execute_reply.started": "2021-10-08T15:23:55.779571Z"
    },
    "id": "MkbavYMiRxWN"
   },
   "outputs": [],
   "source": [
    "%matplotlib inline"
   ]
  },
  {
   "cell_type": "markdown",
   "metadata": {
    "id": "fVxf5ue7RxW5"
   },
   "source": [
    "\n",
    "The eigenfaces example: chaining PCA and SVMs\n",
    "=============================================\n",
    "\n",
    "The goal of this example is to show how an unsupervised method and a\n",
    "supervised one can be chained for better prediction. \n",
    "\n",
    "Here we'll take a look at a simple facial recognition example. Ideally,\n",
    "we would use a dataset consisting of a subset of the `Labeled Faces in\n",
    "the Wild <http://vis-www.cs.umass.edu/lfw/>`__ data that is available\n",
    "with :func:`sklearn.datasets.fetch_lfw_people`. The labelled face in the wild face dataset.\n",
    "\n",
    "However, this is a relatively large download (~200MB) so we will do the tutorial on a simpler, less rich dataset. \n",
    "\n"
   ]
  },
  {
   "cell_type": "code",
   "execution_count": 2,
   "metadata": {
    "execution": {
     "iopub.execute_input": "2021-10-08T15:23:55.806899Z",
     "iopub.status.busy": "2021-10-08T15:23:55.806670Z",
     "iopub.status.idle": "2021-10-08T15:24:16.960460Z",
     "shell.execute_reply": "2021-10-08T15:24:16.957836Z",
     "shell.execute_reply.started": "2021-10-08T15:23:55.806875Z"
    },
    "id": "Ji8l6GbiRxW_",
    "outputId": "69d4c146-8f31-4e5d-b878-253319849429"
   },
   "outputs": [],
   "source": [
    "from sklearn import datasets\n",
    "faces = datasets.fetch_olivetti_faces()\n",
    "faces.data.shape"
   ]
  },
  {
   "cell_type": "markdown",
   "metadata": {
    "id": "La__4Oa0RxXo"
   },
   "source": [
    "Let's visualize these faces to see what we're working with\n",
    "\n"
   ]
  },
  {
   "cell_type": "code",
   "execution_count": null,
   "metadata": {
    "execution": {
     "iopub.status.busy": "2021-10-08T15:24:16.961463Z",
     "iopub.status.idle": "2021-10-08T15:24:16.961866Z",
     "shell.execute_reply": "2021-10-08T15:24:16.961674Z",
     "shell.execute_reply.started": "2021-10-08T15:24:16.961650Z"
    },
    "id": "gyACcsH2RxXv",
    "outputId": "8cd5cae3-deb2-454d-b4f4-d2902c3a324b"
   },
   "outputs": [],
   "source": [
    "from matplotlib import pyplot as plt\n",
    "fig = plt.figure(figsize=(8, 6))\n",
    "# plot several images\n",
    "for i in range(15):\n",
    "    ax = fig.add_subplot(3, 5, i + 1, xticks=[], yticks=[])\n",
    "    ax.imshow(faces.images[i], cmap=plt.cm.bone)"
   ]
  },
  {
   "cell_type": "markdown",
   "metadata": {
    "id": "Jn3nVfylRxYN"
   },
   "source": [
    "Note is that these faces have already been localized and scaled to a common size. \n",
    "   \n",
    "This is an important preprocessing piece for facial recognition, and is a process that can require a large collection of training data. \n",
    "\n",
    "This can be done in scikit-learn, but the challenge is gathering a sufficient amount of training data for the algorithm to work.\n",
    "\n",
    "We'll perform a Support Vector classification of the images. We'll do a\n",
    "typical train-test split on the images:\n",
    "\n"
   ]
  },
  {
   "cell_type": "code",
   "execution_count": null,
   "metadata": {
    "execution": {
     "iopub.status.busy": "2021-10-08T15:24:16.963487Z",
     "iopub.status.idle": "2021-10-08T15:24:16.963885Z",
     "shell.execute_reply": "2021-10-08T15:24:16.963712Z",
     "shell.execute_reply.started": "2021-10-08T15:24:16.963688Z"
    },
    "id": "hDgt10c1RxYn",
    "outputId": "e62fcaf1-d1a3-4832-d82d-116e5da304f7"
   },
   "outputs": [],
   "source": [
    "from sklearn.model_selection import train_test_split\n",
    "X_train, X_test, y_train, y_test = train_test_split(faces.data,\n",
    "        faces.target, random_state=0)\n",
    "\n",
    "print(X_train.shape, X_test.shape)"
   ]
  },
  {
   "cell_type": "markdown",
   "metadata": {
    "id": "U_zhGfTaRxY-"
   },
   "source": [
    "Preprocessing: Principal Component Analysis\n",
    "-------------------------------------------\n",
    "\n",
    "We can use PCA to reduce these features to a manageable size, while maintaining most of the information\n",
    "in the dataset.\n",
    "\n"
   ]
  },
  {
   "cell_type": "code",
   "execution_count": null,
   "metadata": {
    "execution": {
     "iopub.status.busy": "2021-10-08T15:24:16.968300Z",
     "iopub.status.idle": "2021-10-08T15:24:16.968689Z",
     "shell.execute_reply": "2021-10-08T15:24:16.968478Z",
     "shell.execute_reply.started": "2021-10-08T15:24:16.968453Z"
    },
    "id": "zGxiRg_qRxZA",
    "outputId": "fc42cefa-b7f6-42a1-ea20-24e8e155c028"
   },
   "outputs": [],
   "source": [
    "from sklearn import decomposition\n",
    "pca = decomposition.PCA(n_components=150, whiten=True)\n",
    "pca.fit(X_train)"
   ]
  },
  {
   "cell_type": "markdown",
   "metadata": {
    "id": "Yhy0wHC5RxZT"
   },
   "source": [
    "One interesting part of PCA is that it computes the \"mean\" face, which\n",
    "can be interesting to examine:\n",
    "\n"
   ]
  },
  {
   "cell_type": "code",
   "execution_count": null,
   "metadata": {
    "execution": {
     "iopub.status.busy": "2021-10-08T15:24:16.970208Z",
     "iopub.status.idle": "2021-10-08T15:24:16.970622Z",
     "shell.execute_reply": "2021-10-08T15:24:16.970433Z",
     "shell.execute_reply.started": "2021-10-08T15:24:16.970410Z"
    },
    "id": "bwbJKHYXRxZY",
    "outputId": "269822d0-0b5a-4963-8fa8-eb04d35a8f07"
   },
   "outputs": [],
   "source": [
    "plt.imshow(pca.mean_.reshape(faces.images[0].shape),\n",
    "           cmap=plt.cm.bone)"
   ]
  },
  {
   "cell_type": "markdown",
   "metadata": {
    "id": "oIvW5QygRxZv"
   },
   "source": [
    "The principal components measure deviations about this mean along\n",
    "orthogonal axes.\n",
    "\n"
   ]
  },
  {
   "cell_type": "code",
   "execution_count": null,
   "metadata": {
    "execution": {
     "iopub.status.busy": "2021-10-08T15:24:16.971648Z",
     "iopub.status.idle": "2021-10-08T15:24:16.972748Z",
     "shell.execute_reply": "2021-10-08T15:24:16.972493Z",
     "shell.execute_reply.started": "2021-10-08T15:24:16.972465Z"
    },
    "id": "LgOkmKjcRxZy",
    "outputId": "fbaa2812-3e2f-4406-ccb7-0ba2601d8724"
   },
   "outputs": [],
   "source": [
    "print(pca.components_.shape)"
   ]
  },
  {
   "cell_type": "markdown",
   "metadata": {
    "id": "mn8IC0lORxZ-"
   },
   "source": [
    "It is also interesting to visualize these principal components:\n",
    "\n"
   ]
  },
  {
   "cell_type": "code",
   "execution_count": null,
   "metadata": {
    "execution": {
     "iopub.status.busy": "2021-10-08T15:24:16.973937Z",
     "iopub.status.idle": "2021-10-08T15:24:16.974281Z",
     "shell.execute_reply": "2021-10-08T15:24:16.974125Z",
     "shell.execute_reply.started": "2021-10-08T15:24:16.974103Z"
    },
    "id": "9ePFr1ZARxaC",
    "outputId": "e60d4fd4-3b99-406f-949b-4dafed9ea73f"
   },
   "outputs": [],
   "source": [
    "fig = plt.figure(figsize=(16, 6))\n",
    "for i in range(30):\n",
    "    ax = fig.add_subplot(3, 10, i + 1, xticks=[], yticks=[])\n",
    "    ax.imshow(pca.components_[i].reshape(faces.images[0].shape),\n",
    "              cmap=plt.cm.bone)"
   ]
  },
  {
   "cell_type": "markdown",
   "metadata": {
    "id": "SBkPczznRxaT"
   },
   "source": [
    "The components (\"eigenfaces\") are ordered by their importance from\n",
    "top-left to bottom-right. We see that the first few components seem to\n",
    "primarily take care of lighting conditions; the remaining components\n",
    "pull out certain identifying features: the nose, eyes, eyebrows, etc.\n",
    "\n",
    "With this projection computed, we can now project our original training\n",
    "and test data onto the PCA basis:\n",
    "\n"
   ]
  },
  {
   "cell_type": "code",
   "execution_count": null,
   "metadata": {
    "execution": {
     "iopub.status.busy": "2021-10-08T15:24:16.975243Z",
     "iopub.status.idle": "2021-10-08T15:24:16.975587Z",
     "shell.execute_reply": "2021-10-08T15:24:16.975420Z",
     "shell.execute_reply.started": "2021-10-08T15:24:16.975399Z"
    },
    "id": "0a8FG3HFRxaW",
    "outputId": "edde5965-60fa-4f6a-bdbe-03e43866d52c"
   },
   "outputs": [],
   "source": [
    "X_train_pca = pca.transform(X_train)\n",
    "X_test_pca = pca.transform(X_test)\n",
    "print(X_train_pca.shape)"
   ]
  },
  {
   "cell_type": "code",
   "execution_count": null,
   "metadata": {
    "execution": {
     "iopub.status.busy": "2021-10-08T15:24:16.976893Z",
     "iopub.status.idle": "2021-10-08T15:24:16.977306Z",
     "shell.execute_reply": "2021-10-08T15:24:16.977075Z",
     "shell.execute_reply.started": "2021-10-08T15:24:16.977053Z"
    },
    "id": "bwJ9tns3Rxar",
    "outputId": "bc6b818d-9adb-4dae-d8be-9ccc19c8071c"
   },
   "outputs": [],
   "source": [
    "print(X_test_pca.shape)"
   ]
  },
  {
   "cell_type": "markdown",
   "metadata": {
    "id": "rit_f47IRxbC"
   },
   "source": [
    "These projected components correspond to factors in a linear combination\n",
    "of component images such that the combination approaches the original\n",
    "face.\n",
    "\n",
    "Doing the Learning: Support Vector Machines\n",
    "-------------------------------------------\n",
    "\n",
    "Now we'll perform support-vector-machine classification on this reduced\n",
    "dataset:\n",
    "\n"
   ]
  },
  {
   "cell_type": "code",
   "execution_count": null,
   "metadata": {
    "execution": {
     "iopub.status.busy": "2021-10-08T15:24:16.978903Z",
     "iopub.status.idle": "2021-10-08T15:24:16.979262Z",
     "shell.execute_reply": "2021-10-08T15:24:16.979108Z",
     "shell.execute_reply.started": "2021-10-08T15:24:16.979085Z"
    },
    "id": "jtFRD3fORxbH",
    "outputId": "0a34e519-9476-40e5-d6fb-d5821fded5c7"
   },
   "outputs": [],
   "source": [
    "from sklearn import svm\n",
    "clf = svm.SVC(C=5., gamma=0.001)\n",
    "clf.fit(X_train_pca, y_train)"
   ]
  },
  {
   "cell_type": "markdown",
   "metadata": {
    "id": "7kvWiXT-Rxbf"
   },
   "source": [
    "Finally, we can evaluate how well this classification did. First, we\n",
    "might plot a few of the test-cases with the labels learned from the\n",
    "training set:\n",
    "\n"
   ]
  },
  {
   "cell_type": "code",
   "execution_count": null,
   "metadata": {
    "execution": {
     "iopub.status.busy": "2021-10-08T15:24:16.980137Z",
     "iopub.status.idle": "2021-10-08T15:24:16.980500Z",
     "shell.execute_reply": "2021-10-08T15:24:16.980331Z",
     "shell.execute_reply.started": "2021-10-08T15:24:16.980310Z"
    },
    "id": "Y7aXBtRKRxbp",
    "outputId": "62d21908-ac9b-4639-c2cb-f458582a22c3"
   },
   "outputs": [],
   "source": [
    "import numpy as np\n",
    "fig = plt.figure(figsize=(8, 6))\n",
    "for i in range(15):\n",
    "    ax = fig.add_subplot(3, 5, i + 1, xticks=[], yticks=[])\n",
    "    ax.imshow(X_test[i].reshape(faces.images[0].shape),\n",
    "              cmap=plt.cm.bone)\n",
    "    y_pred = clf.predict(X_test_pca[i, np.newaxis])[0]\n",
    "    color = ('black' if y_pred == y_test[i] else 'red')\n",
    "    ax.set_title(y_pred, fontsize='small', color=color)"
   ]
  },
  {
   "cell_type": "markdown",
   "metadata": {
    "id": "yFzw1hvKRxcB"
   },
   "source": [
    "The classifier is correct on an impressive number of images given the\n",
    "simplicity of its learning model! Using a linear classifier on 150\n",
    "features derived from the pixel-level data, the algorithm correctly\n",
    "identifies a large number of the people in the images.\n",
    "\n",
    "Again, we can quantify this effectiveness using one of several measures\n",
    "from :mod:`sklearn.metrics`. First we can do the classification\n",
    "report, which shows the precision, recall and other measures of the\n",
    "\"goodness\" of the classification:\n",
    "\n"
   ]
  },
  {
   "cell_type": "code",
   "execution_count": null,
   "metadata": {
    "execution": {
     "iopub.status.busy": "2021-10-08T15:24:16.981703Z",
     "iopub.status.idle": "2021-10-08T15:24:16.982031Z",
     "shell.execute_reply": "2021-10-08T15:24:16.981870Z",
     "shell.execute_reply.started": "2021-10-08T15:24:16.981849Z"
    },
    "id": "pIRPKH2jRxcE",
    "outputId": "15576e80-5f65-435b-c596-a8e3bb31f15d"
   },
   "outputs": [],
   "source": [
    "from sklearn import metrics\n",
    "y_pred = clf.predict(X_test_pca)\n",
    "print(metrics.classification_report(y_test, y_pred))"
   ]
  },
  {
   "cell_type": "markdown",
   "metadata": {
    "id": "jztgVH4fRxci"
   },
   "source": [
    "Another interesting metric is the *confusion matrix*, which indicates\n",
    "how often any two items are mixed-up. The confusion matrix of a perfect\n",
    "classifier would only have nonzero entries on the diagonal, with zeros\n",
    "on the off-diagonal:\n",
    "\n"
   ]
  },
  {
   "cell_type": "code",
   "execution_count": null,
   "metadata": {
    "execution": {
     "iopub.status.busy": "2021-10-08T15:24:16.983034Z",
     "iopub.status.idle": "2021-10-08T15:24:16.983403Z",
     "shell.execute_reply": "2021-10-08T15:24:16.983241Z",
     "shell.execute_reply.started": "2021-10-08T15:24:16.983211Z"
    },
    "id": "jPcMhOBoRxcl",
    "outputId": "8ac9486d-2e4f-4f57-c2ec-b4c7c6e5a805"
   },
   "outputs": [],
   "source": [
    "print(metrics.confusion_matrix(y_test, y_pred))"
   ]
  },
  {
   "cell_type": "markdown",
   "metadata": {
    "id": "f8aB9bwGRxc_"
   },
   "source": [
    "Pipelining\n",
    "----------\n",
    "\n",
    "Above we used PCA as a pre-processing step before applying our support\n",
    "vector machine classifier. Plugging the output of one estimator directly\n",
    "into the input of a second estimator is a commonly used pattern; for\n",
    "this reason scikit-learn provides a ``Pipeline`` object which automates\n",
    "this process. The above problem can be re-expressed as a pipeline as\n",
    "follows:\n",
    "\n"
   ]
  },
  {
   "cell_type": "code",
   "execution_count": null,
   "metadata": {
    "execution": {
     "iopub.status.busy": "2021-10-08T15:24:16.984503Z",
     "iopub.status.idle": "2021-10-08T15:24:16.984915Z",
     "shell.execute_reply": "2021-10-08T15:24:16.984754Z",
     "shell.execute_reply.started": "2021-10-08T15:24:16.984731Z"
    },
    "id": "Wei0jY67RxdC",
    "outputId": "f2926d52-9a7c-40bb-827d-87418acc9475"
   },
   "outputs": [],
   "source": [
    "from sklearn.pipeline import Pipeline\n",
    "clf = Pipeline([('pca', decomposition.PCA(n_components=150, whiten=True)),\n",
    "                ('svm', svm.LinearSVC(C=1.0))])\n",
    "\n",
    "clf.fit(X_train, y_train)\n",
    "\n",
    "y_pred = clf.predict(X_test)\n",
    "print(metrics.confusion_matrix(y_pred, y_test))\n",
    "plt.show()"
   ]
  },
  {
   "cell_type": "markdown",
   "metadata": {
    "id": "3K-HzY4fRxdT"
   },
   "source": [
    "A Note on Facial Recognition\n",
    "----------------------------\n",
    "\n",
    "Here we have used PCA \"eigenfaces\" as a pre-processing step for facial\n",
    "recognition. The reason we chose this is because PCA is a\n",
    "broadly-applicable technique, which can be useful for a wide array of\n",
    "data types. Research in the field of facial recognition in particular,\n",
    "however, has shown that other more specific feature extraction methods\n",
    "are can be much more effective.\n",
    "\n"
   ]
  },
  {
   "cell_type": "markdown",
   "metadata": {
    "id": "VJj6B4c4I1Bz"
   },
   "source": [
    "Assignment: Perform SVM with PCA operation on Breast Cancer Dataset and Iris Dataset."
   ]
  },
  {
   "cell_type": "code",
   "execution_count": null,
   "metadata": {
    "id": "uCtx1NGeJFmA"
   },
   "outputs": [],
   "source": []
  }
 ],
 "metadata": {
  "kernelspec": {
   "display_name": "Python 3 (ipykernel)",
   "language": "python",
   "name": "python3"
  },
  "language_info": {
   "codemirror_mode": {
    "name": "ipython",
    "version": 3
   },
   "file_extension": ".py",
   "mimetype": "text/x-python",
   "name": "python",
   "nbconvert_exporter": "python",
   "pygments_lexer": "ipython3",
   "version": "3.8.0"
  }
 },
 "nbformat": 4,
 "nbformat_minor": 4
}
